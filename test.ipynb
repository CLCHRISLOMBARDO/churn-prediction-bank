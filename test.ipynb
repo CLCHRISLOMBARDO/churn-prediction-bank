{
 "cells": [
  {
   "cell_type": "code",
   "execution_count": 8,
   "id": "ccaa8916",
   "metadata": {},
   "outputs": [],
   "source": [
    "import optuna\n",
    "from src.config import PATH_OUTPUT_OPTIMIZACION\n",
    "import json\n",
    "\n",
    "fecha_name = '2025-09-26_17-37-58'\n",
    "db_path= PATH_OUTPUT_OPTIMIZACION + 'db/'\n",
    "bestparams_path = PATH_OUTPUT_OPTIMIZACION+'best_params/'\n",
    "\n",
    "storage_name = \"sqlite:///\" + db_path + \"optimization_lgbm.db\"\n",
    "study = optuna.load_study(study_name='study_lgbm_binaria_'+fecha_name,storage=storage_name)"
   ]
  },
  {
   "cell_type": "code",
   "execution_count": 9,
   "id": "7e93bc1a",
   "metadata": {},
   "outputs": [
    {
     "name": "stdout",
     "output_type": "stream",
     "text": [
      "best_iter_binaria_2025-09-26_17-37-58.json guardado en outputs/lgbm_optimizacion/best_params/ \n"
     ]
    }
   ],
   "source": [
    "best_iter=study.best_trial.user_attrs[\"best_iter\"]\n",
    "name=\"binaria\"+f\"_{fecha_name}\"\n",
    "try:\n",
    "    with open(bestparams_path + f\"best_iter_{name}.json\",\"w\") as f:\n",
    "        json.dump(best_iter , f ,indent=4)\n",
    "    print(f\"best_iter_{name}.json guardado en {bestparams_path} \")\n",
    "except Exception as e:\n",
    "    print(f\"Error al tratar de guardar el json de best iter por el error :{e}\")"
   ]
  },
  {
   "cell_type": "code",
   "execution_count": 10,
   "id": "eeb9d542",
   "metadata": {},
   "outputs": [
    {
     "data": {
      "text/plain": [
       "618"
      ]
     },
     "execution_count": 10,
     "metadata": {},
     "output_type": "execute_result"
    }
   ],
   "source": [
    "best_iter"
   ]
  },
  {
   "cell_type": "code",
   "execution_count": null,
   "id": "4448b6ef",
   "metadata": {},
   "outputs": [
    {
     "name": "stdout",
     "output_type": "stream",
     "text": [
      "2025-09-26_17-37-58\n",
      "Correcta carga de la best iter : best_iter_binaria_2025-09-26_17-37-58.json\n"
     ]
    }
   ],
   "source": [
    "bayesiana_fecha=\"2025-09-26\"\n",
    "bayesiana_hora=\"17-37-58\"\n",
    "bayesiana_fecha_hora= bayesiana_fecha +'_'+bayesiana_hora\n",
    "print(bayesiana_fecha_hora)\n",
    "\n",
    "name_best_iter_file=f\"best_iter_binaria_{bayesiana_fecha_hora}.json\"\n",
    "with open(bestparams_path+name_best_iter_file, \"r\") as f:\n",
    "    best_iter_2 = json.load(f)\n",
    "    print(f\"Correcta carga de la best iter : {name_best_iter_file}\")"
   ]
  },
  {
   "cell_type": "code",
   "execution_count": 14,
   "id": "ec3664e0",
   "metadata": {},
   "outputs": [
    {
     "data": {
      "text/plain": [
       "True"
      ]
     },
     "execution_count": 14,
     "metadata": {},
     "output_type": "execute_result"
    }
   ],
   "source": [
    "best_iter_2 == best_iter"
   ]
  },
  {
   "cell_type": "code",
   "execution_count": 16,
   "id": "1b34d0cb",
   "metadata": {},
   "outputs": [
    {
     "name": "stdout",
     "output_type": "stream",
     "text": [
      "Correcta carga de los best params : best_paramsbinaria_2025-09-26_17-37-58.json\n"
     ]
    }
   ],
   "source": [
    "name_best_params_file=f\"best_paramsbinaria_{bayesiana_fecha_hora}.json\"\n",
    "with open(bestparams_path+name_best_params_file, \"r\") as f:\n",
    "    best_params = json.load(f)\n",
    "    print(f\"Correcta carga de los best params : {name_best_params_file}\")"
   ]
  },
  {
   "cell_type": "code",
   "execution_count": 17,
   "id": "8aca4b66",
   "metadata": {},
   "outputs": [
    {
     "data": {
      "text/plain": [
       "{'num_leaves': 54,\n",
       " 'learning_rate': 0.04297575406824279,\n",
       " 'min_data_in_leaf': 751,\n",
       " 'feature_fraction': 0.5387562229838383,\n",
       " 'bagging_fraction': 0.9381056893447353}"
      ]
     },
     "execution_count": 17,
     "metadata": {},
     "output_type": "execute_result"
    }
   ],
   "source": [
    "best_params"
   ]
  },
  {
   "cell_type": "code",
   "execution_count": null,
   "id": "9bb34dd8",
   "metadata": {},
   "outputs": [],
   "source": []
  }
 ],
 "metadata": {
  "kernelspec": {
   "display_name": "env_bank",
   "language": "python",
   "name": "python3"
  },
  "language_info": {
   "codemirror_mode": {
    "name": "ipython",
    "version": 3
   },
   "file_extension": ".py",
   "mimetype": "text/x-python",
   "name": "python",
   "nbconvert_exporter": "python",
   "pygments_lexer": "ipython3",
   "version": "3.11.9"
  }
 },
 "nbformat": 4,
 "nbformat_minor": 5
}
